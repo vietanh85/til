{
 "cells": [
  {
   "cell_type": "markdown",
   "metadata": {},
   "source": [
    "# Broadcasting example\n",
    "\n",
    "### Calories from Carb, Proteins, Fats in 100g of diffrent food:\n",
    "\n",
    " | Apples | Beef | Eggs | Potatoes\n",
    " ---: | ---: | ---: | ---: | ---:\n",
    "**Carb** | 56.0 | 0.0 | 4.4 | 68.0\n",
    "**Protein** | 1.2 | 104.0 | 52.0 | 8.0\n",
    "**Fat** | 1.8 | 135.0 | 99.0 | 0.9\n",
    "**Total Cal** | **59.0** | **239.0** | **155.4** | **76.9**\n",
    "\n",
    "Using this data we need to calculate the percentage of calories from carb, protein and fat whitout a for-loop\n",
    "\n",
    "\n",
    "\n"
   ]
  },
  {
   "cell_type": "code",
   "execution_count": 20,
   "metadata": {},
   "outputs": [
    {
     "name": "stdout",
     "output_type": "stream",
     "text": [
      "[[  56.     0.     4.4   68. ]\n",
      " [   1.2  104.    52.     8. ]\n",
      " [   1.8  135.    99.     0.9]]\n"
     ]
    }
   ],
   "source": [
    "import numpy as np\n",
    "\n",
    "A = np.array([[56.0, 0.0, 4.4, 68.0],\n",
    "              [1.2, 104.0, 52.0, 8.0],\n",
    "              [1.8, 135.0, 99.0, 0.9]])\n",
    "\n",
    "print(A)"
   ]
  },
  {
   "cell_type": "code",
   "execution_count": 21,
   "metadata": {},
   "outputs": [
    {
     "name": "stdout",
     "output_type": "stream",
     "text": [
      "[  59.   239.   155.4   76.9]\n"
     ]
    }
   ],
   "source": [
    "cal = A.sum(axis=0) # cal = np.sum(A, axis=0), axis=0 to sum verticaly\n",
    "print(cal)"
   ]
  },
  {
   "cell_type": "code",
   "execution_count": 22,
   "metadata": {},
   "outputs": [
    {
     "name": "stdout",
     "output_type": "stream",
     "text": [
      "[[ 94.91525424   0.           2.83140283  88.42652796]\n",
      " [  2.03389831  43.51464435  33.46203346  10.40312094]\n",
      " [  3.05084746  56.48535565  63.70656371   1.17035111]]\n"
     ]
    }
   ],
   "source": [
    "percentage = 100 * A/cal.reshape(1, 4) #[[  59.   239.   155.4   76.9]]\n",
    "print(percentage)"
   ]
  },
  {
   "cell_type": "markdown",
   "metadata": {},
   "source": [
    "### Matrices\n",
    "\n",
    "$\n",
    "\\begin{bmatrix}\n",
    "    1 \\\\\n",
    "    2 \\\\\n",
    "    3 \\\\\n",
    "    4 \\\\\n",
    "\\end{bmatrix} + 100\n",
    " = \n",
    "\\begin{bmatrix}\n",
    "    1 \\\\\n",
    "    2 \\\\\n",
    "    3 \\\\\n",
    "    4 \\\\\n",
    "\\end{bmatrix} + \n",
    "\\begin{bmatrix}\n",
    "    100 \\\\\n",
    "    100 \\\\\n",
    "    100 \\\\\n",
    "    100 \\\\\n",
    "\\end{bmatrix} =\n",
    "\\begin{bmatrix}\n",
    "    101 \\\\\n",
    "    102 \\\\\n",
    "    103 \\\\\n",
    "    104 \\\\\n",
    "\\end{bmatrix}\n",
    "$\n",
    "\n",
    "$\n",
    "\\begin{bmatrix}\n",
    "    1 & 2 & 3 \\\\\n",
    "    4 & 5 & 6 \\\\\n",
    "\\end{bmatrix} + \n",
    "\\begin{bmatrix}\n",
    "    100 & 200 & 300 \\\\\n",
    "\\end{bmatrix} = \n",
    "\\begin{bmatrix}\n",
    "    1 & 2 & 3 \\\\\n",
    "    4 & 5 & 6 \\\\\n",
    "\\end{bmatrix} + \n",
    "\\begin{bmatrix}\n",
    "    100 & 200 & 300 \\\\\n",
    "    100 & 200 & 300 \\\\\n",
    "\\end{bmatrix} = \n",
    "\\begin{bmatrix}\n",
    "    101 & 202 & 303 \\\\\n",
    "    104 & 205 & 306 \\\\\n",
    "\\end{bmatrix} \n",
    "$\n",
    "\n",
    "$\n",
    "\\begin{bmatrix}\n",
    "    1 & 2 & 3 \\\\\n",
    "    4 & 5 & 6 \\\\\n",
    "\\end{bmatrix} + \n",
    "\\begin{bmatrix}\n",
    "    100 \\\\\n",
    "    200 \\\\\n",
    "\\end{bmatrix} = \n",
    "\\begin{bmatrix}\n",
    "    1 & 2 & 3 \\\\\n",
    "    4 & 5 & 6 \\\\\n",
    "\\end{bmatrix} + \n",
    "\\begin{bmatrix}\n",
    "    100 & 100 & 100\\\\\n",
    "    200 & 200 & 200\\\\\n",
    "\\end{bmatrix} = \n",
    "\\begin{bmatrix}\n",
    "    101 & 102 & 103 \\\\\n",
    "    204 & 205 & 206 \\\\\n",
    "\\end{bmatrix} \n",
    "$\n"
   ]
  },
  {
   "cell_type": "markdown",
   "metadata": {},
   "source": [
    "# Tips and Tricks\n",
    "\n",
    "Do not use data structure without row and column such as `(n,)` use `(n, 1)` or `(1, n)` instead\n",
    "\n",
    "\n",
    "```python\n",
    "a = np.random.rand(5)\n",
    "# a.shape = (5,) \n",
    "# a rank 1 array\n",
    "# DO NOT use this range 1 array\n",
    "\n",
    "a = np.random.rand(5, 1)\n",
    "# a.shape = (5, 1) \n",
    "# a column vector\n",
    "\n",
    "a = np.random.rand(1, 5)\n",
    "# a.shape = (1, 5) \n",
    "# a row vector\n",
    "\n",
    "# use assert to check the matrix dimension (very cheap to compute)\n",
    "assert(a.shape == (5,1))\n",
    "\n",
    "# use reshape to convert rank 1 array to vector to avoid errors (very cheap to comput)\n",
    "a.reshape((5,1))\n",
    "\n",
    "```"
   ]
  },
  {
   "cell_type": "code",
   "execution_count": 44,
   "metadata": {
    "collapsed": true
   },
   "outputs": [],
   "source": [
    "import numpy as np\n",
    "\n",
    "a = np.random.randn(5)"
   ]
  },
  {
   "cell_type": "code",
   "execution_count": 45,
   "metadata": {},
   "outputs": [
    {
     "name": "stdout",
     "output_type": "stream",
     "text": [
      "[-0.71289407 -0.23760186  0.51380417 -0.34805323  0.31586985]\n"
     ]
    }
   ],
   "source": [
    "print(a)"
   ]
  },
  {
   "cell_type": "code",
   "execution_count": 46,
   "metadata": {},
   "outputs": [
    {
     "name": "stdout",
     "output_type": "stream",
     "text": [
      "(5,)\n"
     ]
    }
   ],
   "source": [
    "print(a.shape)"
   ]
  },
  {
   "cell_type": "code",
   "execution_count": 47,
   "metadata": {},
   "outputs": [
    {
     "name": "stdout",
     "output_type": "stream",
     "text": [
      "[-0.71289407 -0.23760186  0.51380417 -0.34805323  0.31586985]\n"
     ]
    }
   ],
   "source": [
    "print(a.T) # exactly the same thing with a"
   ]
  },
  {
   "cell_type": "code",
   "execution_count": 48,
   "metadata": {},
   "outputs": [
    {
     "name": "stdout",
     "output_type": "stream",
     "text": [
      "1.04958214437\n"
     ]
    }
   ],
   "source": [
    "print(np.dot(a, a.T))"
   ]
  },
  {
   "cell_type": "code",
   "execution_count": 49,
   "metadata": {},
   "outputs": [
    {
     "name": "stdout",
     "output_type": "stream",
     "text": [
      "[[-2.14753341]\n",
      " [-1.74908005]\n",
      " [-0.4774603 ]\n",
      " [ 0.14832567]\n",
      " [-0.48723265]]\n"
     ]
    }
   ],
   "source": [
    "a = np.random.randn(5, 1)\n",
    "print(a)"
   ]
  },
  {
   "cell_type": "code",
   "execution_count": 50,
   "metadata": {},
   "outputs": [
    {
     "name": "stdout",
     "output_type": "stream",
     "text": [
      "[[-2.14753341 -1.74908005 -0.4774603   0.14832567 -0.48723265]]\n"
     ]
    }
   ],
   "source": [
    "print(a.T)"
   ]
  },
  {
   "cell_type": "code",
   "execution_count": 51,
   "metadata": {},
   "outputs": [
    {
     "name": "stdout",
     "output_type": "stream",
     "text": [
      "[[ 4.61189975  3.75620784  1.02536194 -0.31853432  1.0463484 ]\n",
      " [ 3.75620784  3.05928101  0.83511628 -0.25943346  0.85220891]\n",
      " [ 1.02536194  0.83511628  0.22796834 -0.07081962  0.23263425]\n",
      " [-0.31853432 -0.25943346 -0.07081962  0.0220005  -0.07226911]\n",
      " [ 1.0463484   0.85220891  0.23263425 -0.07226911  0.23739566]]\n"
     ]
    }
   ],
   "source": [
    "print(np.dot(a, a.T))"
   ]
  },
  {
   "cell_type": "code",
   "execution_count": null,
   "metadata": {
    "collapsed": true
   },
   "outputs": [],
   "source": []
  }
 ],
 "metadata": {
  "kernelspec": {
   "display_name": "Python 3",
   "language": "python",
   "name": "python3"
  },
  "language_info": {
   "codemirror_mode": {
    "name": "ipython",
    "version": 3
   },
   "file_extension": ".py",
   "mimetype": "text/x-python",
   "name": "python",
   "nbconvert_exporter": "python",
   "pygments_lexer": "ipython3",
   "version": "3.6.1"
  }
 },
 "nbformat": 4,
 "nbformat_minor": 2
}
