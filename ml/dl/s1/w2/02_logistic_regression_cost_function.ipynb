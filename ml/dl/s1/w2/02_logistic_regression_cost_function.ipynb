{
 "cells": [
  {
   "cell_type": "markdown",
   "metadata": {},
   "source": [
    "# Explain the logistic regression cost function\n",
    "\n",
    "## Logistic regression cost function\n",
    "\n",
    "We have: $\\hat{y} = \\sigma(w^Tx +b)$ when $\\sigma(z) = \\frac{1}{1 + exp(-z)}$\n",
    "\n",
    "Interpret: $\\hat{y} = p (y = 1 \\mid x)$\n",
    "\n",
    "Another way to say this:\n",
    "\n",
    "+ If $y = 1 : p(y \\mid x) = \\hat{y}$ \n",
    "+ If $y = 0 : p(y \\mid x) = 1 - \\hat{y}$ \n",
    "\n",
    "$\\Rightarrow p(y \\mid x) = \\hat{y^y} (1 - \\hat{y})^{(1-y)}$\n",
    "\n",
    "$\\Rightarrow \\log p(y \\mid x) = \\log \\hat{y^y} (1 - \\hat{y})^{(1-y)} = y\\log\\hat{y} + (1-y)\\log(1-\\hat{y}) = -\\mathcal{L}(\\hat{y}, y) $\n",
    "\n",
    "The result become out lost function with minus, this is because when calculating the propability, nomarly we maximize the value, but in machine learning we try to minimize it. So by maximize the probabilty we will minimize our lost function.\n",
    "\n",
    "## Cost on $m$ examples\n",
    "\n",
    "$\\mathcal{P}(labels\\, in\\, the\\, training\\, set) = \\prod_{i=0}^{m} p(y^{(i)} \\mid x^{(i)})$\n",
    "\n",
    "$\\Rightarrow \\log \\mathcal{P}(labels\\, in\\, the\\, training\\, set) = \\log \\prod_{i=0}^{m} p(y^{(i)} \\mid x^{(i)})$\n",
    "\n",
    "$= \\sum_{i=0}^{m} \\log p(y^{(i)} \\mid x^{(i)}) = -\\sum_{i=0}^{m} \\mathcal{L}(\\hat{y}^{(i)}, y^{(i)})$\n",
    "\n",
    "This principal called the maximum likelyhood estimation, where we need to chose parameters to maximize the $\\mathcal{P}(labels\\, in\\, the\\, training\\, set)$ or in other hand we will minimize the $\\sum_{i=0}^{m} \\mathcal{L}(\\hat{y}^{(i)}, y^{(i)})$\n",
    "\n",
    "Our cost function will be:\n",
    "\n",
    "$\\mathcal{J}(w, b)  = \\frac{1}{m} \\sum_{i=0}^{m} \\mathcal{L}(\\hat{y}^{(i)}, y^{(i)})$"
   ]
  },
  {
   "cell_type": "code",
   "execution_count": 5,
   "metadata": {},
   "outputs": [
    {
     "name": "stdout",
     "output_type": "stream",
     "text": [
      "(3, 3)\n"
     ]
    }
   ],
   "source": [
    "import numpy as np\n",
    "a = np.random.randn(3, 3)\n",
    "b = np.random.randn(3, 1)\n",
    "c = a*b\n",
    "print(c.shape)"
   ]
  },
  {
   "cell_type": "code",
   "execution_count": null,
   "metadata": {
    "collapsed": true
   },
   "outputs": [],
   "source": []
  },
  {
   "cell_type": "code",
   "execution_count": null,
   "metadata": {
    "collapsed": true
   },
   "outputs": [],
   "source": []
  }
 ],
 "metadata": {
  "kernelspec": {
   "display_name": "Python 3",
   "language": "python",
   "name": "python3"
  },
  "language_info": {
   "codemirror_mode": {
    "name": "ipython",
    "version": 3
   },
   "file_extension": ".py",
   "mimetype": "text/x-python",
   "name": "python",
   "nbconvert_exporter": "python",
   "pygments_lexer": "ipython3",
   "version": "3.6.1"
  }
 },
 "nbformat": 4,
 "nbformat_minor": 2
}
