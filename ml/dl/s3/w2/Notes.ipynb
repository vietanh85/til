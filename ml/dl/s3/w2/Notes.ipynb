{
 "cells": [
  {
   "cell_type": "markdown",
   "metadata": {},
   "source": [
    "# ML Strategy (2)\n",
    "\n",
    "- Understand what multi-task learning and transfer learning are\n",
    "- Recognize bias, variance and data-mismatch by looking at the performances of your algorithm on train/dev/test sets\n",
    "\n",
    "## Error Analysis\n",
    "\n",
    "### Carrying out error analysis\n",
    "\n",
    "Error analysis:\n",
    "- Get 100 mislabeled dev set example\n",
    "- Count up how many are dogs\n",
    "\n",
    "Evaluate multiple ideas in parallel\n",
    "\n",
    "### Cleaning up incorrectly labeled data\n",
    "\n",
    "### Build your first system quickly, then iterate\n",
    "\n",
    "- Set up dev/test set and metrics\n",
    "- Build initial system quickly\n",
    "- Use bias/variance analysis & error analysis to prioritize next steps\n",
    "\n",
    "###  Training and testing on different distributions\n",
    "\n",
    "Suppose we have 2 sets of data 1 from web with 200,000 images, another from mobile app with 10,000 images\n",
    "\n",
    "- option 1: merge data sets together and shuffle them to train/dev/test sets\n",
    "    - advantage: dev/test come from same distribution\n",
    "    - disadvantage: big amount data of dev/test set will come from web\n",
    "- option 2: split the mobile set to 2 parts, one for the train (5,000) and the dev and test set get the rest of images from mobile (2,500 each)\n",
    "\n",
    "### Bias and Variance with mismatched data distributions\n",
    "\n",
    "- Training-dev set: same distribution with training set, but not use for training\n",
    "\n",
    "| Error |  |  |\n",
    "| --- | --- | --- |\n",
    "| Human | 0% | 0% |\n",
    "| Training | 1% | 1% |\n",
    "| Training-dev | 9% | 1.5% |\n",
    "| Dev | 10% | 10% |\n",
    "| Problem | variance | data mismatched |\n",
    "\n",
    "| Error |  |  |\n",
    "| --- | --- | --- |\n",
    "| Human | 0% | 0% |\n",
    "| Training | 10% | 10% |\n",
    "| Training-dev | 11% | 11% |\n",
    "| Dev | 12% | 20% |\n",
    "| Problem | bias | data mismatched + bias |\n",
    "\n",
    "### Addressing data mismatch\n",
    "\n"
   ]
  },
  {
   "cell_type": "markdown",
   "metadata": {},
   "source": [
    "## Learning from multiple tasks\n",
    "\n",
    "### Transfer learning\n",
    "\n",
    "### Multi-tasks learning\n",
    "\n",
    "## End-to-end deep learning\n",
    "\n"
   ]
  },
  {
   "cell_type": "code",
   "execution_count": null,
   "metadata": {
    "collapsed": true
   },
   "outputs": [],
   "source": []
  }
 ],
 "metadata": {
  "kernelspec": {
   "display_name": "Python 3",
   "language": "python",
   "name": "python3"
  },
  "language_info": {
   "codemirror_mode": {
    "name": "ipython",
    "version": 3
   },
   "file_extension": ".py",
   "mimetype": "text/x-python",
   "name": "python",
   "nbconvert_exporter": "python",
   "pygments_lexer": "ipython3",
   "version": "3.6.1"
  }
 },
 "nbformat": 4,
 "nbformat_minor": 2
}
