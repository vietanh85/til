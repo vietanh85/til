{
 "cells": [
  {
   "cell_type": "markdown",
   "metadata": {},
   "source": [
    "# ML Strategy\n",
    "\n",
    "- Understand why Machine Learning strategy is important\n",
    "- Apply satisficing and optimizing metrics to set up your goal for ML projects\n",
    "- Choose a correct train/dev/test split of your dataset\n",
    "- Understand how to define human-level performance\n",
    "- Use human-level perform to define your key priorities in ML projects\n",
    "- Take the correct ML Strategic decision based on observations of performances and datase\n",
    "\n",
    "## Introduction to ML Strategy\n",
    "\n",
    "### Why ML Strategy\n",
    "\n",
    "There are a lot of options to try to improve ML system:\n",
    "- Collect more data\n",
    "- Collect more diverse training set\n",
    "- Train algorithm longer with gradient descent\n",
    "- Try Adam instead of gradient descent\n",
    "- Try bigger network\n",
    "- Try smaller network\n",
    "- Try dropout\n",
    "- Add $L_2$ regularization\n",
    "- Network architecture\n",
    "    - Activation function\n",
    "    - no. of hidden unit\n",
    "    - etc.\n",
    "\n",
    "If we choose wrongly or poorly, we can lost six months with nothing better.\n",
    "Need a quick and effective way to figure out which of these idea to pursue.\n",
    "\n",
    "### Orthogonalization\n",
    "\n"
   ]
  },
  {
   "cell_type": "code",
   "execution_count": null,
   "metadata": {
    "collapsed": true
   },
   "outputs": [],
   "source": []
  }
 ],
 "metadata": {
  "kernelspec": {
   "display_name": "Python 3",
   "language": "python",
   "name": "python3"
  },
  "language_info": {
   "codemirror_mode": {
    "name": "ipython",
    "version": 3
   },
   "file_extension": ".py",
   "mimetype": "text/x-python",
   "name": "python",
   "nbconvert_exporter": "python",
   "pygments_lexer": "ipython3",
   "version": "3.6.1"
  }
 },
 "nbformat": 4,
 "nbformat_minor": 2
}
